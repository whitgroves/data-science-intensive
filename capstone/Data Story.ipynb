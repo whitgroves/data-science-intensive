{
 "cells": [
  {
   "cell_type": "markdown",
   "metadata": {},
   "source": [
    "### 1) Pick a dataset."
   ]
  },
  {
   "cell_type": "markdown",
   "metadata": {},
   "source": [
    "I'm using The Blood Transfusion Service Center Dataset from [drivendata.org](https://www.drivendata.org/competitions/2/data/), which was originally donated to the [UCI Machine Learning Repository](https://archive.ics.uci.edu/ml/datasets/Blood+Transfusion+Service+Center) by Professor I-Cheng Yeh. This data describes blood donations given at a mobile donation vehicle in Taiwan for a period ending in March 2007.\n",
    "\n",
    "For purposes of data exploration, I will use the training set provided by drivendata."
   ]
  },
  {
   "cell_type": "code",
   "execution_count": 45,
   "metadata": {
    "collapsed": true
   },
   "outputs": [],
   "source": [
    "import pandas as pd\n",
    "import numpy as np\n",
    "\n",
    "import matplotlib.pyplot as plt\n",
    "\n",
    "import scipy.stats as stats\n",
    "\n",
    "%matplotlib inline"
   ]
  },
  {
   "cell_type": "code",
   "execution_count": 61,
   "metadata": {
    "collapsed": false
   },
   "outputs": [
    {
     "data": {
      "text/html": [
       "<div>\n",
       "<table border=\"1\" class=\"dataframe\">\n",
       "  <thead>\n",
       "    <tr style=\"text-align: right;\">\n",
       "      <th></th>\n",
       "      <th>months_since_last_donation</th>\n",
       "      <th>number_of_donations</th>\n",
       "      <th>total_ccs_donated</th>\n",
       "      <th>months_since_first_donation</th>\n",
       "      <th>donated_in_march_2007</th>\n",
       "    </tr>\n",
       "    <tr>\n",
       "      <th>donorID</th>\n",
       "      <th></th>\n",
       "      <th></th>\n",
       "      <th></th>\n",
       "      <th></th>\n",
       "      <th></th>\n",
       "    </tr>\n",
       "  </thead>\n",
       "  <tbody>\n",
       "    <tr>\n",
       "      <th>619</th>\n",
       "      <td>2</td>\n",
       "      <td>50</td>\n",
       "      <td>12500</td>\n",
       "      <td>98</td>\n",
       "      <td>1</td>\n",
       "    </tr>\n",
       "    <tr>\n",
       "      <th>664</th>\n",
       "      <td>0</td>\n",
       "      <td>13</td>\n",
       "      <td>3250</td>\n",
       "      <td>28</td>\n",
       "      <td>1</td>\n",
       "    </tr>\n",
       "    <tr>\n",
       "      <th>441</th>\n",
       "      <td>1</td>\n",
       "      <td>16</td>\n",
       "      <td>4000</td>\n",
       "      <td>35</td>\n",
       "      <td>1</td>\n",
       "    </tr>\n",
       "    <tr>\n",
       "      <th>160</th>\n",
       "      <td>2</td>\n",
       "      <td>20</td>\n",
       "      <td>5000</td>\n",
       "      <td>45</td>\n",
       "      <td>1</td>\n",
       "    </tr>\n",
       "    <tr>\n",
       "      <th>358</th>\n",
       "      <td>1</td>\n",
       "      <td>24</td>\n",
       "      <td>6000</td>\n",
       "      <td>77</td>\n",
       "      <td>0</td>\n",
       "    </tr>\n",
       "  </tbody>\n",
       "</table>\n",
       "</div>"
      ],
      "text/plain": [
       "         months_since_last_donation  number_of_donations  total_ccs_donated  \\\n",
       "donorID                                                                       \n",
       "619                               2                   50              12500   \n",
       "664                               0                   13               3250   \n",
       "441                               1                   16               4000   \n",
       "160                               2                   20               5000   \n",
       "358                               1                   24               6000   \n",
       "\n",
       "         months_since_first_donation  donated_in_march_2007  \n",
       "donorID                                                      \n",
       "619                               98                      1  \n",
       "664                               28                      1  \n",
       "441                               35                      1  \n",
       "160                               45                      1  \n",
       "358                               77                      0  "
      ]
     },
     "execution_count": 61,
     "metadata": {},
     "output_type": "execute_result"
    }
   ],
   "source": [
    "data = pd.read_csv('data/donations_train.csv')\n",
    "data.columns = ['donorID',\n",
    "                'months_since_last_donation',\n",
    "                'number_of_donations',\n",
    "                'total_ccs_donated',\n",
    "                'months_since_first_donation',\n",
    "                'donated_in_march_2007']\n",
    "data = data.set_index('donorID')\n",
    "data.head()"
   ]
  },
  {
   "cell_type": "markdown",
   "metadata": {},
   "source": [
    "### 2) Ask the following questions:"
   ]
  },
  {
   "cell_type": "markdown",
   "metadata": {},
   "source": [
    "#### 1. Can you count something interesting?"
   ]
  },
  {
   "cell_type": "code",
   "execution_count": 63,
   "metadata": {
    "collapsed": false
   },
   "outputs": [
    {
     "name": "stdout",
     "output_type": "stream",
     "text": [
      "      Total donors: 576 \n",
      "   Total donations: 3,126 \n",
      "Total cc's donated: 781,500\n"
     ]
    }
   ],
   "source": [
    "total_donors = len(data)\n",
    "total_donations = sum(data.number_of_donations)\n",
    "total_ccs_donated = sum(data.total_ccs_donated)\n",
    "\n",
    "print(\"      Total donors: {0:,} \\n   Total donations: {1:,} \\nTotal cc's donated: {2:,}\".format(total_donors,\n",
    "                                                                                                 total_donations,\n",
    "                                                                                                 total_ccs_donated))"
   ]
  },
  {
   "cell_type": "markdown",
   "metadata": {},
   "source": [
    "#### 2. Can you find some trends?"
   ]
  },
  {
   "cell_type": "code",
   "execution_count": 68,
   "metadata": {
    "collapsed": false
   },
   "outputs": [
    {
     "data": {
      "text/html": [
       "<div>\n",
       "<table border=\"1\" class=\"dataframe\">\n",
       "  <thead>\n",
       "    <tr style=\"text-align: right;\">\n",
       "      <th></th>\n",
       "      <th>months_since_last_donation</th>\n",
       "      <th>number_of_donations</th>\n",
       "      <th>total_ccs_donated</th>\n",
       "      <th>months_since_first_donation</th>\n",
       "      <th>donated_in_march_2007</th>\n",
       "    </tr>\n",
       "    <tr>\n",
       "      <th>donorID</th>\n",
       "      <th></th>\n",
       "      <th></th>\n",
       "      <th></th>\n",
       "      <th></th>\n",
       "      <th></th>\n",
       "    </tr>\n",
       "  </thead>\n",
       "  <tbody>\n",
       "    <tr>\n",
       "      <th>619</th>\n",
       "      <td>2</td>\n",
       "      <td>50</td>\n",
       "      <td>12500</td>\n",
       "      <td>98</td>\n",
       "      <td>1</td>\n",
       "    </tr>\n",
       "    <tr>\n",
       "      <th>736</th>\n",
       "      <td>5</td>\n",
       "      <td>46</td>\n",
       "      <td>11500</td>\n",
       "      <td>98</td>\n",
       "      <td>1</td>\n",
       "    </tr>\n",
       "    <tr>\n",
       "      <th>149</th>\n",
       "      <td>2</td>\n",
       "      <td>44</td>\n",
       "      <td>11000</td>\n",
       "      <td>98</td>\n",
       "      <td>0</td>\n",
       "    </tr>\n",
       "    <tr>\n",
       "      <th>39</th>\n",
       "      <td>2</td>\n",
       "      <td>43</td>\n",
       "      <td>10750</td>\n",
       "      <td>86</td>\n",
       "      <td>1</td>\n",
       "    </tr>\n",
       "    <tr>\n",
       "      <th>451</th>\n",
       "      <td>23</td>\n",
       "      <td>38</td>\n",
       "      <td>9500</td>\n",
       "      <td>98</td>\n",
       "      <td>0</td>\n",
       "    </tr>\n",
       "    <tr>\n",
       "      <th>157</th>\n",
       "      <td>4</td>\n",
       "      <td>33</td>\n",
       "      <td>8250</td>\n",
       "      <td>98</td>\n",
       "      <td>1</td>\n",
       "    </tr>\n",
       "    <tr>\n",
       "      <th>564</th>\n",
       "      <td>11</td>\n",
       "      <td>24</td>\n",
       "      <td>6000</td>\n",
       "      <td>64</td>\n",
       "      <td>0</td>\n",
       "    </tr>\n",
       "    <tr>\n",
       "      <th>358</th>\n",
       "      <td>1</td>\n",
       "      <td>24</td>\n",
       "      <td>6000</td>\n",
       "      <td>77</td>\n",
       "      <td>0</td>\n",
       "    </tr>\n",
       "    <tr>\n",
       "      <th>649</th>\n",
       "      <td>11</td>\n",
       "      <td>22</td>\n",
       "      <td>5500</td>\n",
       "      <td>98</td>\n",
       "      <td>0</td>\n",
       "    </tr>\n",
       "    <tr>\n",
       "      <th>677</th>\n",
       "      <td>6</td>\n",
       "      <td>22</td>\n",
       "      <td>5500</td>\n",
       "      <td>28</td>\n",
       "      <td>1</td>\n",
       "    </tr>\n",
       "  </tbody>\n",
       "</table>\n",
       "</div>"
      ],
      "text/plain": [
       "         months_since_last_donation  number_of_donations  total_ccs_donated  \\\n",
       "donorID                                                                       \n",
       "619                               2                   50              12500   \n",
       "736                               5                   46              11500   \n",
       "149                               2                   44              11000   \n",
       "39                                2                   43              10750   \n",
       "451                              23                   38               9500   \n",
       "157                               4                   33               8250   \n",
       "564                              11                   24               6000   \n",
       "358                               1                   24               6000   \n",
       "649                              11                   22               5500   \n",
       "677                               6                   22               5500   \n",
       "\n",
       "         months_since_first_donation  donated_in_march_2007  \n",
       "donorID                                                      \n",
       "619                               98                      1  \n",
       "736                               98                      1  \n",
       "149                               98                      0  \n",
       "39                                86                      1  \n",
       "451                               98                      0  \n",
       "157                               98                      1  \n",
       "564                               64                      0  \n",
       "358                               77                      0  \n",
       "649                               98                      0  \n",
       "677                               28                      1  "
      ]
     },
     "execution_count": 68,
     "metadata": {},
     "output_type": "execute_result"
    }
   ],
   "source": [
    "data.sort_values(by='total_ccs_donated', ascending=False).head(10)"
   ]
  },
  {
   "cell_type": "code",
   "execution_count": 69,
   "metadata": {
    "collapsed": false
   },
   "outputs": [
    {
     "data": {
      "text/html": [
       "<div>\n",
       "<table border=\"1\" class=\"dataframe\">\n",
       "  <thead>\n",
       "    <tr style=\"text-align: right;\">\n",
       "      <th></th>\n",
       "      <th>months_since_last_donation</th>\n",
       "      <th>number_of_donations</th>\n",
       "      <th>total_ccs_donated</th>\n",
       "      <th>months_since_first_donation</th>\n",
       "      <th>donated_in_march_2007</th>\n",
       "    </tr>\n",
       "    <tr>\n",
       "      <th>donorID</th>\n",
       "      <th></th>\n",
       "      <th></th>\n",
       "      <th></th>\n",
       "      <th></th>\n",
       "      <th></th>\n",
       "    </tr>\n",
       "  </thead>\n",
       "  <tbody>\n",
       "    <tr>\n",
       "      <th>619</th>\n",
       "      <td>2</td>\n",
       "      <td>50</td>\n",
       "      <td>12500</td>\n",
       "      <td>98</td>\n",
       "      <td>1</td>\n",
       "    </tr>\n",
       "    <tr>\n",
       "      <th>149</th>\n",
       "      <td>2</td>\n",
       "      <td>44</td>\n",
       "      <td>11000</td>\n",
       "      <td>98</td>\n",
       "      <td>0</td>\n",
       "    </tr>\n",
       "    <tr>\n",
       "      <th>157</th>\n",
       "      <td>4</td>\n",
       "      <td>33</td>\n",
       "      <td>8250</td>\n",
       "      <td>98</td>\n",
       "      <td>1</td>\n",
       "    </tr>\n",
       "    <tr>\n",
       "      <th>649</th>\n",
       "      <td>11</td>\n",
       "      <td>22</td>\n",
       "      <td>5500</td>\n",
       "      <td>98</td>\n",
       "      <td>0</td>\n",
       "    </tr>\n",
       "    <tr>\n",
       "      <th>200</th>\n",
       "      <td>4</td>\n",
       "      <td>16</td>\n",
       "      <td>4000</td>\n",
       "      <td>98</td>\n",
       "      <td>1</td>\n",
       "    </tr>\n",
       "    <tr>\n",
       "      <th>171</th>\n",
       "      <td>14</td>\n",
       "      <td>16</td>\n",
       "      <td>4000</td>\n",
       "      <td>98</td>\n",
       "      <td>0</td>\n",
       "    </tr>\n",
       "    <tr>\n",
       "      <th>736</th>\n",
       "      <td>5</td>\n",
       "      <td>46</td>\n",
       "      <td>11500</td>\n",
       "      <td>98</td>\n",
       "      <td>1</td>\n",
       "    </tr>\n",
       "    <tr>\n",
       "      <th>451</th>\n",
       "      <td>23</td>\n",
       "      <td>38</td>\n",
       "      <td>9500</td>\n",
       "      <td>98</td>\n",
       "      <td>0</td>\n",
       "    </tr>\n",
       "    <tr>\n",
       "      <th>7</th>\n",
       "      <td>4</td>\n",
       "      <td>11</td>\n",
       "      <td>2750</td>\n",
       "      <td>95</td>\n",
       "      <td>0</td>\n",
       "    </tr>\n",
       "    <tr>\n",
       "      <th>106</th>\n",
       "      <td>1</td>\n",
       "      <td>14</td>\n",
       "      <td>3500</td>\n",
       "      <td>95</td>\n",
       "      <td>0</td>\n",
       "    </tr>\n",
       "  </tbody>\n",
       "</table>\n",
       "</div>"
      ],
      "text/plain": [
       "         months_since_last_donation  number_of_donations  total_ccs_donated  \\\n",
       "donorID                                                                       \n",
       "619                               2                   50              12500   \n",
       "149                               2                   44              11000   \n",
       "157                               4                   33               8250   \n",
       "649                              11                   22               5500   \n",
       "200                               4                   16               4000   \n",
       "171                              14                   16               4000   \n",
       "736                               5                   46              11500   \n",
       "451                              23                   38               9500   \n",
       "7                                 4                   11               2750   \n",
       "106                               1                   14               3500   \n",
       "\n",
       "         months_since_first_donation  donated_in_march_2007  \n",
       "donorID                                                      \n",
       "619                               98                      1  \n",
       "149                               98                      0  \n",
       "157                               98                      1  \n",
       "649                               98                      0  \n",
       "200                               98                      1  \n",
       "171                               98                      0  \n",
       "736                               98                      1  \n",
       "451                               98                      0  \n",
       "7                                 95                      0  \n",
       "106                               95                      0  "
      ]
     },
     "execution_count": 69,
     "metadata": {},
     "output_type": "execute_result"
    }
   ],
   "source": [
    "data.sort_values(by='months_since_first_donation', ascending=False).head(10)"
   ]
  },
  {
   "cell_type": "code",
   "execution_count": 82,
   "metadata": {
    "collapsed": false
   },
   "outputs": [
    {
     "data": {
      "text/html": [
       "<div>\n",
       "<table border=\"1\" class=\"dataframe\">\n",
       "  <thead>\n",
       "    <tr style=\"text-align: right;\">\n",
       "      <th></th>\n",
       "      <th>months_since_last_donation</th>\n",
       "      <th>number_of_donations</th>\n",
       "      <th>total_ccs_donated</th>\n",
       "      <th>months_since_first_donation</th>\n",
       "      <th>donated_in_march_2007</th>\n",
       "    </tr>\n",
       "    <tr>\n",
       "      <th>donorID</th>\n",
       "      <th></th>\n",
       "      <th></th>\n",
       "      <th></th>\n",
       "      <th></th>\n",
       "      <th></th>\n",
       "    </tr>\n",
       "  </thead>\n",
       "  <tbody>\n",
       "    <tr>\n",
       "      <th>211</th>\n",
       "      <td>2</td>\n",
       "      <td>1</td>\n",
       "      <td>250</td>\n",
       "      <td>2</td>\n",
       "      <td>0</td>\n",
       "    </tr>\n",
       "    <tr>\n",
       "      <th>293</th>\n",
       "      <td>2</td>\n",
       "      <td>1</td>\n",
       "      <td>250</td>\n",
       "      <td>2</td>\n",
       "      <td>1</td>\n",
       "    </tr>\n",
       "    <tr>\n",
       "      <th>247</th>\n",
       "      <td>2</td>\n",
       "      <td>1</td>\n",
       "      <td>250</td>\n",
       "      <td>2</td>\n",
       "      <td>1</td>\n",
       "    </tr>\n",
       "    <tr>\n",
       "      <th>550</th>\n",
       "      <td>2</td>\n",
       "      <td>1</td>\n",
       "      <td>250</td>\n",
       "      <td>2</td>\n",
       "      <td>1</td>\n",
       "    </tr>\n",
       "    <tr>\n",
       "      <th>275</th>\n",
       "      <td>2</td>\n",
       "      <td>1</td>\n",
       "      <td>250</td>\n",
       "      <td>2</td>\n",
       "      <td>0</td>\n",
       "    </tr>\n",
       "    <tr>\n",
       "      <th>692</th>\n",
       "      <td>2</td>\n",
       "      <td>1</td>\n",
       "      <td>250</td>\n",
       "      <td>2</td>\n",
       "      <td>0</td>\n",
       "    </tr>\n",
       "    <tr>\n",
       "      <th>456</th>\n",
       "      <td>2</td>\n",
       "      <td>1</td>\n",
       "      <td>250</td>\n",
       "      <td>2</td>\n",
       "      <td>0</td>\n",
       "    </tr>\n",
       "    <tr>\n",
       "      <th>587</th>\n",
       "      <td>2</td>\n",
       "      <td>1</td>\n",
       "      <td>250</td>\n",
       "      <td>2</td>\n",
       "      <td>0</td>\n",
       "    </tr>\n",
       "    <tr>\n",
       "      <th>341</th>\n",
       "      <td>2</td>\n",
       "      <td>1</td>\n",
       "      <td>250</td>\n",
       "      <td>2</td>\n",
       "      <td>0</td>\n",
       "    </tr>\n",
       "    <tr>\n",
       "      <th>477</th>\n",
       "      <td>2</td>\n",
       "      <td>1</td>\n",
       "      <td>250</td>\n",
       "      <td>2</td>\n",
       "      <td>0</td>\n",
       "    </tr>\n",
       "  </tbody>\n",
       "</table>\n",
       "</div>"
      ],
      "text/plain": [
       "         months_since_last_donation  number_of_donations  total_ccs_donated  \\\n",
       "donorID                                                                       \n",
       "211                               2                    1                250   \n",
       "293                               2                    1                250   \n",
       "247                               2                    1                250   \n",
       "550                               2                    1                250   \n",
       "275                               2                    1                250   \n",
       "692                               2                    1                250   \n",
       "456                               2                    1                250   \n",
       "587                               2                    1                250   \n",
       "341                               2                    1                250   \n",
       "477                               2                    1                250   \n",
       "\n",
       "         months_since_first_donation  donated_in_march_2007  \n",
       "donorID                                                      \n",
       "211                                2                      0  \n",
       "293                                2                      1  \n",
       "247                                2                      1  \n",
       "550                                2                      1  \n",
       "275                                2                      0  \n",
       "692                                2                      0  \n",
       "456                                2                      0  \n",
       "587                                2                      0  \n",
       "341                                2                      0  \n",
       "477                                2                      0  "
      ]
     },
     "execution_count": 82,
     "metadata": {},
     "output_type": "execute_result"
    }
   ],
   "source": [
    "data.sort_values(by='months_since_first_donation', ascending=True).head(10)"
   ]
  },
  {
   "cell_type": "code",
   "execution_count": 70,
   "metadata": {
    "collapsed": false
   },
   "outputs": [
    {
     "data": {
      "text/html": [
       "<div>\n",
       "<table border=\"1\" class=\"dataframe\">\n",
       "  <thead>\n",
       "    <tr style=\"text-align: right;\">\n",
       "      <th></th>\n",
       "      <th>months_since_last_donation</th>\n",
       "      <th>number_of_donations</th>\n",
       "      <th>total_ccs_donated</th>\n",
       "      <th>months_since_first_donation</th>\n",
       "      <th>donated_in_march_2007</th>\n",
       "    </tr>\n",
       "    <tr>\n",
       "      <th>donorID</th>\n",
       "      <th></th>\n",
       "      <th></th>\n",
       "      <th></th>\n",
       "      <th></th>\n",
       "      <th></th>\n",
       "    </tr>\n",
       "  </thead>\n",
       "  <tbody>\n",
       "    <tr>\n",
       "      <th>350</th>\n",
       "      <td>74</td>\n",
       "      <td>1</td>\n",
       "      <td>250</td>\n",
       "      <td>74</td>\n",
       "      <td>0</td>\n",
       "    </tr>\n",
       "    <tr>\n",
       "      <th>74</th>\n",
       "      <td>72</td>\n",
       "      <td>1</td>\n",
       "      <td>250</td>\n",
       "      <td>72</td>\n",
       "      <td>0</td>\n",
       "    </tr>\n",
       "    <tr>\n",
       "      <th>541</th>\n",
       "      <td>39</td>\n",
       "      <td>1</td>\n",
       "      <td>250</td>\n",
       "      <td>39</td>\n",
       "      <td>0</td>\n",
       "    </tr>\n",
       "    <tr>\n",
       "      <th>673</th>\n",
       "      <td>35</td>\n",
       "      <td>3</td>\n",
       "      <td>750</td>\n",
       "      <td>64</td>\n",
       "      <td>0</td>\n",
       "    </tr>\n",
       "    <tr>\n",
       "      <th>281</th>\n",
       "      <td>26</td>\n",
       "      <td>5</td>\n",
       "      <td>1250</td>\n",
       "      <td>49</td>\n",
       "      <td>1</td>\n",
       "    </tr>\n",
       "    <tr>\n",
       "      <th>183</th>\n",
       "      <td>25</td>\n",
       "      <td>6</td>\n",
       "      <td>1500</td>\n",
       "      <td>50</td>\n",
       "      <td>0</td>\n",
       "    </tr>\n",
       "    <tr>\n",
       "      <th>378</th>\n",
       "      <td>23</td>\n",
       "      <td>2</td>\n",
       "      <td>500</td>\n",
       "      <td>23</td>\n",
       "      <td>0</td>\n",
       "    </tr>\n",
       "    <tr>\n",
       "      <th>117</th>\n",
       "      <td>23</td>\n",
       "      <td>1</td>\n",
       "      <td>250</td>\n",
       "      <td>23</td>\n",
       "      <td>0</td>\n",
       "    </tr>\n",
       "    <tr>\n",
       "      <th>325</th>\n",
       "      <td>23</td>\n",
       "      <td>15</td>\n",
       "      <td>3750</td>\n",
       "      <td>57</td>\n",
       "      <td>0</td>\n",
       "    </tr>\n",
       "    <tr>\n",
       "      <th>597</th>\n",
       "      <td>23</td>\n",
       "      <td>3</td>\n",
       "      <td>750</td>\n",
       "      <td>89</td>\n",
       "      <td>0</td>\n",
       "    </tr>\n",
       "  </tbody>\n",
       "</table>\n",
       "</div>"
      ],
      "text/plain": [
       "         months_since_last_donation  number_of_donations  total_ccs_donated  \\\n",
       "donorID                                                                       \n",
       "350                              74                    1                250   \n",
       "74                               72                    1                250   \n",
       "541                              39                    1                250   \n",
       "673                              35                    3                750   \n",
       "281                              26                    5               1250   \n",
       "183                              25                    6               1500   \n",
       "378                              23                    2                500   \n",
       "117                              23                    1                250   \n",
       "325                              23                   15               3750   \n",
       "597                              23                    3                750   \n",
       "\n",
       "         months_since_first_donation  donated_in_march_2007  \n",
       "donorID                                                      \n",
       "350                               74                      0  \n",
       "74                                72                      0  \n",
       "541                               39                      0  \n",
       "673                               64                      0  \n",
       "281                               49                      1  \n",
       "183                               50                      0  \n",
       "378                               23                      0  \n",
       "117                               23                      0  \n",
       "325                               57                      0  \n",
       "597                               89                      0  "
      ]
     },
     "execution_count": 70,
     "metadata": {},
     "output_type": "execute_result"
    }
   ],
   "source": [
    "data.sort_values(by='months_since_last_donation', ascending=False).head(10)"
   ]
  },
  {
   "cell_type": "code",
   "execution_count": 71,
   "metadata": {
    "collapsed": false
   },
   "outputs": [
    {
     "data": {
      "text/html": [
       "<div>\n",
       "<table border=\"1\" class=\"dataframe\">\n",
       "  <thead>\n",
       "    <tr style=\"text-align: right;\">\n",
       "      <th></th>\n",
       "      <th>months_since_last_donation</th>\n",
       "      <th>number_of_donations</th>\n",
       "      <th>total_ccs_donated</th>\n",
       "      <th>months_since_first_donation</th>\n",
       "      <th>donated_in_march_2007</th>\n",
       "    </tr>\n",
       "    <tr>\n",
       "      <th>donorID</th>\n",
       "      <th></th>\n",
       "      <th></th>\n",
       "      <th></th>\n",
       "      <th></th>\n",
       "      <th></th>\n",
       "    </tr>\n",
       "  </thead>\n",
       "  <tbody>\n",
       "    <tr>\n",
       "      <th>436</th>\n",
       "      <td>0</td>\n",
       "      <td>3</td>\n",
       "      <td>750</td>\n",
       "      <td>4</td>\n",
       "      <td>0</td>\n",
       "    </tr>\n",
       "    <tr>\n",
       "      <th>214</th>\n",
       "      <td>0</td>\n",
       "      <td>2</td>\n",
       "      <td>500</td>\n",
       "      <td>4</td>\n",
       "      <td>0</td>\n",
       "    </tr>\n",
       "    <tr>\n",
       "      <th>676</th>\n",
       "      <td>0</td>\n",
       "      <td>8</td>\n",
       "      <td>2000</td>\n",
       "      <td>59</td>\n",
       "      <td>0</td>\n",
       "    </tr>\n",
       "    <tr>\n",
       "      <th>664</th>\n",
       "      <td>0</td>\n",
       "      <td>13</td>\n",
       "      <td>3250</td>\n",
       "      <td>28</td>\n",
       "      <td>1</td>\n",
       "    </tr>\n",
       "    <tr>\n",
       "      <th>358</th>\n",
       "      <td>1</td>\n",
       "      <td>24</td>\n",
       "      <td>6000</td>\n",
       "      <td>77</td>\n",
       "      <td>0</td>\n",
       "    </tr>\n",
       "    <tr>\n",
       "      <th>607</th>\n",
       "      <td>1</td>\n",
       "      <td>9</td>\n",
       "      <td>2250</td>\n",
       "      <td>51</td>\n",
       "      <td>0</td>\n",
       "    </tr>\n",
       "    <tr>\n",
       "      <th>182</th>\n",
       "      <td>1</td>\n",
       "      <td>7</td>\n",
       "      <td>1750</td>\n",
       "      <td>57</td>\n",
       "      <td>0</td>\n",
       "    </tr>\n",
       "    <tr>\n",
       "      <th>164</th>\n",
       "      <td>1</td>\n",
       "      <td>12</td>\n",
       "      <td>3000</td>\n",
       "      <td>35</td>\n",
       "      <td>0</td>\n",
       "    </tr>\n",
       "    <tr>\n",
       "      <th>106</th>\n",
       "      <td>1</td>\n",
       "      <td>14</td>\n",
       "      <td>3500</td>\n",
       "      <td>95</td>\n",
       "      <td>0</td>\n",
       "    </tr>\n",
       "    <tr>\n",
       "      <th>285</th>\n",
       "      <td>1</td>\n",
       "      <td>13</td>\n",
       "      <td>3250</td>\n",
       "      <td>47</td>\n",
       "      <td>0</td>\n",
       "    </tr>\n",
       "  </tbody>\n",
       "</table>\n",
       "</div>"
      ],
      "text/plain": [
       "         months_since_last_donation  number_of_donations  total_ccs_donated  \\\n",
       "donorID                                                                       \n",
       "436                               0                    3                750   \n",
       "214                               0                    2                500   \n",
       "676                               0                    8               2000   \n",
       "664                               0                   13               3250   \n",
       "358                               1                   24               6000   \n",
       "607                               1                    9               2250   \n",
       "182                               1                    7               1750   \n",
       "164                               1                   12               3000   \n",
       "106                               1                   14               3500   \n",
       "285                               1                   13               3250   \n",
       "\n",
       "         months_since_first_donation  donated_in_march_2007  \n",
       "donorID                                                      \n",
       "436                                4                      0  \n",
       "214                                4                      0  \n",
       "676                               59                      0  \n",
       "664                               28                      1  \n",
       "358                               77                      0  \n",
       "607                               51                      0  \n",
       "182                               57                      0  \n",
       "164                               35                      0  \n",
       "106                               95                      0  \n",
       "285                               47                      0  "
      ]
     },
     "execution_count": 71,
     "metadata": {},
     "output_type": "execute_result"
    }
   ],
   "source": [
    "data.sort_values(by='months_since_last_donation', ascending=True).head(10)"
   ]
  },
  {
   "cell_type": "code",
   "execution_count": 95,
   "metadata": {
    "collapsed": false
   },
   "outputs": [
    {
     "name": "stdout",
     "output_type": "stream",
     "text": [
      "118 donors have only given once.\n"
     ]
    }
   ],
   "source": [
    "one_time_donors = data[data.number_of_donations == 1]\n",
    "print('{0} donors have only given once.'.format(len(one_time_donors)))"
   ]
  },
  {
   "cell_type": "markdown",
   "metadata": {},
   "source": [
    "#### 3. Can you make a bar plot or a histogram?"
   ]
  },
  {
   "cell_type": "code",
   "execution_count": 81,
   "metadata": {
    "collapsed": false
   },
   "outputs": [
    {
     "data": {
      "text/plain": [
       "<matplotlib.text.Text at 0x2134c107828>"
      ]
     },
     "execution_count": 81,
     "metadata": {},
     "output_type": "execute_result"
    },
    {
     "data": {
      "image/png": "[encoded data removed]",
      "text/plain": [
       "<matplotlib.figure.Figure at 0x2134bf9aba8>"
      ]
     },
     "metadata": {},
     "output_type": "display_data"
    }
   ],
   "source": [
    "plt.hist(data.months_since_first_donation, bins=20)\n",
    "plt.xlabel(\"Months since first donation\")\n",
    "plt.ylabel(\"Number of donors\")\n",
    "plt.title(\"Histogram of Months since first donation\")"
   ]
  },
  {
   "cell_type": "code",
   "execution_count": 89,
   "metadata": {
    "collapsed": false
   },
   "outputs": [
    {
     "data": {
      "text/plain": [
       "<matplotlib.text.Text at 0x2134d4aef60>"
      ]
     },
     "execution_count": 89,
     "metadata": {},
     "output_type": "execute_result"
    },
    {
     "data": {
      "image/png": "[encoded data removed]",
      "text/plain": [
       "<matplotlib.figure.Figure at 0x2134d412cf8>"
      ]
     },
     "metadata": {},
     "output_type": "display_data"
    }
   ],
   "source": [
    "plt.hist(data.months_since_last_donation, bins=20)\n",
    "plt.xlabel(\"Months since first donation\")\n",
    "plt.ylabel(\"Number of donors\")\n",
    "plt.title(\"Histogram of Months since last donation\")"
   ]
  },
  {
   "cell_type": "markdown",
   "metadata": {},
   "source": [
    "#### 4. Can you compare two related quantities?"
   ]
  },
  {
   "cell_type": "code",
   "execution_count": 98,
   "metadata": {
    "collapsed": false
   },
   "outputs": [
    {
     "data": {
      "text/plain": [
       "<matplotlib.text.Text at 0x2134d6126d8>"
      ]
     },
     "execution_count": 98,
     "metadata": {},
     "output_type": "execute_result"
    },
    {
     "data": {
      "image/png": "[encoded data removed]",
      "text/plain": [
       "<matplotlib.figure.Figure at 0x2134d5bd400>"
      ]
     },
     "metadata": {},
     "output_type": "display_data"
    }
   ],
   "source": [
    "x = data.number_of_donations\n",
    "y = data.total_ccs_donated\n",
    "\n",
    "fig, ax = plt.subplots(figsize=(7,4))\n",
    "ax.scatter(x, y, alpha=0.2)\n",
    "ax.set_title(\"Scatterplot of number of donations vs. Total cc's donated\", fontsize=12)\n",
    "\n",
    "ax.set_xlim([0,max(x)+5])\n",
    "ax.set_xlabel(\"Number of donations\", fontsize=12)\n",
    "\n",
    "ax.set_ylim([0,max(y)+5])\n",
    "ax.set_ylabel(\"Total cc's donated\", fontsize=12)"
   ]
  },
  {
   "cell_type": "markdown",
   "metadata": {},
   "source": [
    "#### 5. Can you make a scatterplot?"
   ]
  },
  {
   "cell_type": "code",
   "execution_count": 66,
   "metadata": {
    "collapsed": false
   },
   "outputs": [
    {
     "data": {
      "text/plain": [
       "<matplotlib.text.Text at 0x2134b925518>"
      ]
     },
     "execution_count": 66,
     "metadata": {},
     "output_type": "execute_result"
    },
    {
     "data": {
      "image/png": "[encoded data removed]",
      "text/plain": [
       "<matplotlib.figure.Figure at 0x2134bc97f98>"
      ]
     },
     "metadata": {},
     "output_type": "display_data"
    }
   ],
   "source": [
    "x = data.months_since_first_donation\n",
    "y = data.total_ccs_donated\n",
    "\n",
    "fig, ax = plt.subplots(figsize=(7,4))\n",
    "ax.scatter(x, y, alpha=0.2)\n",
    "ax.set_title(\"Scatterplot of months since first donation vs. Total cc's donated\", fontsize=12)\n",
    "\n",
    "ax.set_xlim([0,max(x)+5])\n",
    "ax.set_xlabel(\"Months since first donation\", fontsize=12)\n",
    "\n",
    "ax.set_ylim([0,max(y)+5])\n",
    "ax.set_ylabel(\"Total cc's donated\", fontsize=12)"
   ]
  },
  {
   "cell_type": "code",
   "execution_count": 97,
   "metadata": {
    "collapsed": false
   },
   "outputs": [
    {
     "data": {
      "text/plain": [
       "<matplotlib.text.Text at 0x2134d5b57b8>"
      ]
     },
     "execution_count": 97,
     "metadata": {},
     "output_type": "execute_result"
    },
    {
     "data": {
      "image/png": "[encoded data removed]",
      "text/plain": [
       "<matplotlib.figure.Figure at 0x2134d55e048>"
      ]
     },
     "metadata": {},
     "output_type": "display_data"
    }
   ],
   "source": [
    "x = data.months_since_first_donation\n",
    "y = data.number_of_donations\n",
    "\n",
    "fig, ax = plt.subplots(figsize=(7,4))\n",
    "ax.scatter(x, y, alpha=0.2)\n",
    "ax.set_title(\"Scatterplot of months since first donation vs. Number of donations\", fontsize=12)\n",
    "\n",
    "ax.set_xlim([0,max(x)+5])\n",
    "ax.set_xlabel(\"Months since first donation\", fontsize=12)\n",
    "\n",
    "ax.set_ylim([0,max(y)+5])\n",
    "ax.set_ylabel(\"Number of donations\", fontsize=12)"
   ]
  },
  {
   "cell_type": "markdown",
   "metadata": {},
   "source": [
    "#### 6. Can you make a time-series plot?"
   ]
  },
  {
   "cell_type": "markdown",
   "metadata": {},
   "source": [
    "Since the data does not include a full history of donations, a time-series plot cannot be created for it."
   ]
  },
  {
   "cell_type": "markdown",
   "metadata": {},
   "source": [
    "### 3) What are some insights gained from these plots?"
   ]
  },
  {
   "cell_type": "markdown",
   "metadata": {},
   "source": [
    "The set is skewed towards a high number of low-volume donors, and the vast majority of donors have given in the last 24 months. Since donors who have only given once have total volumes of 250 cc's, it can be inferred that this is the standard donation unit."
   ]
  },
  {
   "cell_type": "markdown",
   "metadata": {},
   "source": [
    "### Do you see any correlations?"
   ]
  },
  {
   "cell_type": "markdown",
   "metadata": {},
   "source": [
    "There is a positive correlation between months since first donation and total cc's donated. And a direct correlation (m = 15) of number of donations and total cc's donated."
   ]
  },
  {
   "cell_type": "markdown",
   "metadata": {},
   "source": [
    "### Is there a hypothesis you would like to investigate farther?"
   ]
  },
  {
   "cell_type": "markdown",
   "metadata": {},
   "source": [
    "I would like to know what correlation, if any, there is between months since the first donation, and the total number of donations."
   ]
  },
  {
   "cell_type": "markdown",
   "metadata": {},
   "source": [
    "### What other questions does this lead you to ask?"
   ]
  },
  {
   "cell_type": "markdown",
   "metadata": {},
   "source": [
    "What motivates donors to return?"
   ]
  },
  {
   "cell_type": "markdown",
   "metadata": {},
   "source": [
    "### 4) Is there an interesting narrative that tells a compelling story? What other trends/relationships that will make this more complete?"
   ]
  },
  {
   "cell_type": "markdown",
   "metadata": {},
   "source": [
    "Generally, there are a lot of new donors, plus a handful of people who consistently return to donate on a regular basis. It would be nice to know what the blood type breakdown was for each of these donors, as well as gender of donors and universities visited during the timeframe."
   ]
  }
 ],
 "metadata": {
  "kernelspec": {
   "display_name": "Python 3",
   "language": "python",
   "name": "python3"
  },
  "language_info": {
   "codemirror_mode": {
    "name": "ipython",
    "version": 3
   },
   "file_extension": ".py",
   "mimetype": "text/x-python",
   "name": "python",
   "nbconvert_exporter": "python",
   "pygments_lexer": "ipython3",
   "version": "3.5.1"
  }
 },
 "nbformat": 4,
 "nbformat_minor": 0
}
