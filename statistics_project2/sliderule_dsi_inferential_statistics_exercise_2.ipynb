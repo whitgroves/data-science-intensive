{
 "cells": [
  {
   "cell_type": "markdown",
   "metadata": {},
   "source": [
    "\n",
    "### Examining racial discrimination in the US job market\n",
    "\n",
    "#### Background\n",
    "Racial discrimination continues to be pervasive in cultures throughout the world. Researchers examined the level of racial discrimination in the United States labor market by randomly assigning identical résumés black-sounding or white-sounding names and observing the impact on requests for interviews from employers.\n",
    "\n",
    "#### Data\n",
    "In the dataset provided, each row represents a resume. The 'race' column has two values, 'b' and 'w', indicating black-sounding and white-sounding. The column 'call' has two values, 1 and 0, indicating whether the resume received a call from employers or not.\n",
    "\n",
    "Note that the 'b' and 'w' values in race are assigned randomly to the resumes.\n",
    "\n",
    "#### Exercise\n",
    "You will perform a statistical analysis to establish whether race has a significant impact on the rate of callbacks for resumes.\n",
    "\n",
    "Answer the following questions **in this notebook below and submit to your Github account**. \n",
    "\n",
    "   1. What test is appropriate for this problem? Does CLT apply?\n",
    "   2. What are the null and alternate hypotheses?\n",
    "   3. Compute margin of error, confidence interval, and p-value.\n",
    "   4. Discuss statistical significance.\n",
    "\n",
    "You can include written notes in notebook cells using Markdown: \n",
    "   - In the control panel at the top, choose Cell > Cell Type > Markdown\n",
    "   - Markdown syntax: http://nestacms.com/docs/creating-content/markdown-cheat-sheet\n",
    "\n",
    "\n",
    "#### Resources\n",
    "+ Experiment information and data source: http://www.povertyactionlab.org/evaluation/discrimination-job-market-united-states\n",
    "+ Scipy statistical methods: http://docs.scipy.org/doc/scipy/reference/stats.html \n",
    "+ Markdown syntax: http://nestacms.com/docs/creating-content/markdown-cheat-sheet\n",
    "\n",
    "****"
   ]
  },
  {
   "cell_type": "code",
   "execution_count": 1,
   "metadata": {
    "collapsed": true
   },
   "outputs": [],
   "source": [
    "import pandas as pd\n",
    "import numpy as np\n",
    "from scipy import stats\n",
    "\n",
    "%matplotlib inline"
   ]
  },
  {
   "cell_type": "code",
   "execution_count": 2,
   "metadata": {
    "collapsed": false
   },
   "outputs": [],
   "source": [
    "data = pd.io.stata.read_stata('data/us_job_market_discrimination.dta')"
   ]
  },
  {
   "cell_type": "markdown",
   "metadata": {},
   "source": [
    "### 1) What test is appropriate for this problem? Does CLT apply?"
   ]
  },
  {
   "cell_type": "code",
   "execution_count": 15,
   "metadata": {
    "collapsed": false
   },
   "outputs": [
    {
     "name": "stdout",
     "output_type": "stream",
     "text": [
      "\n",
      ":Blacks: \n",
      "Sample size: 2435 \n",
      "Callbacks: 157.0 \n",
      "Probability of callback: 0.064476\n",
      "\n",
      ":Whites: \n",
      "Sample size: 2435 \n",
      "Callbacks: 235.0 \n",
      "Probability of callback: 0.096509\n"
     ]
    }
   ],
   "source": [
    "blacks = data[data.race == 'b']\n",
    "whites = data[data.race == 'w']\n",
    "\n",
    "black_n = len(blacks)\n",
    "black_c = sum(blacks.call)\n",
    "black_p = np.round(black_c/black_n,6)\n",
    "\n",
    "print('\\n:Blacks: \\nSample size: {0} \\nCallbacks: {1} \\nProbability of callback: {2}'.format(black_n, black_c, black_p))\n",
    "\n",
    "white_n = len(whites)\n",
    "white_c = sum(whites.call)\n",
    "white_p = np.round(white_c/white_n,6)\n",
    "\n",
    "print('\\n:Whites: \\nSample size: {0} \\nCallbacks: {1} \\nProbability of callback: {2}'.format(white_n, white_c, white_p))"
   ]
  },
  {
   "cell_type": "markdown",
   "metadata": {},
   "source": [
    "Because we're looking for *any* impact on callbacks due to race, **a two-tailed z-test is appropriate.** The sample size is well above 30, so **the CLT applies here.**"
   ]
  },
  {
   "cell_type": "markdown",
   "metadata": {},
   "source": []
  },
  {
   "cell_type": "markdown",
   "metadata": {},
   "source": [
    "### 2) What are the null and alternate hypotheses?"
   ]
  },
  {
   "cell_type": "markdown",
   "metadata": {},
   "source": [
    "$\\sf{H_{0}}$: The difference in the callback rate between black- and white-sounding names is zero.\n",
    "\n",
    "$\\sf{H_{A}}$: The difference in the callback rate between black- and white-sounding names is not zero."
   ]
  },
  {
   "cell_type": "markdown",
   "metadata": {},
   "source": [
    "### 3) Compute margin of error, confidence interval, and p-value."
   ]
  },
  {
   "cell_type": "code",
   "execution_count": 29,
   "metadata": {
    "collapsed": false
   },
   "outputs": [
    {
     "name": "stdout",
     "output_type": "stream",
     "text": [
      "Margin of error: 0.015255 \n",
      "95% confidence interval: 0.016778 to 0.047288 \n",
      "P-value: 1.9e-05\n"
     ]
    }
   ],
   "source": [
    "# We're using a 95% confidence interval here, which means our z_value is 1.96.\n",
    "z_value = 1.96\n",
    "\n",
    "diff_h0 = 0\n",
    "diff_p = abs(black_p - white_p)\n",
    "diff_std = np.sqrt((black_p*(1-black_p))/black_n+(white_p*(1-white_p))/white_n)\n",
    "diff_err = np.round(z_value * diff_std,6)\n",
    "\n",
    "diff_upper = np.round(diff_p + diff_err,6)\n",
    "diff_lower = np.round(diff_p - diff_err,6)\n",
    "\n",
    "z_crit = np.round((diff_p - 0)/diff_std,6)\n",
    "p_value = np.round(1 - stats.norm.cdf(z_crit),6)\n",
    "\n",
    "print('Margin of error: {0} \\n95% confidence interval: {1} to {2} \\nP-value: {3}'.format(diff_err, diff_lower, diff_upper, p_value))"
   ]
  },
  {
   "cell_type": "markdown",
   "metadata": {},
   "source": [
    "### 4) Discuss statistical significance."
   ]
  },
  {
   "cell_type": "markdown",
   "metadata": {},
   "source": [
    "Given that the p-value is particularly small (0.000019) compared to the alpha of 0.05 for a confidence interval of 95%, the difference is statistically significant and **we reject the null hypothesis.** "
   ]
  }
 ],
 "metadata": {
  "kernelspec": {
   "display_name": "Python 3",
   "language": "python",
   "name": "python3"
  },
  "language_info": {
   "codemirror_mode": {
    "name": "ipython",
    "version": 3
   },
   "file_extension": ".py",
   "mimetype": "text/x-python",
   "name": "python",
   "nbconvert_exporter": "python",
   "pygments_lexer": "ipython3",
   "version": "3.5.1"
  }
 },
 "nbformat": 4,
 "nbformat_minor": 0
}
