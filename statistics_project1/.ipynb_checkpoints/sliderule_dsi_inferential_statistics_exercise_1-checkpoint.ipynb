{
 "cells": [
  {
   "cell_type": "markdown",
   "metadata": {},
   "source": [
    "## What is the true normal human body temperature? \n",
    "\n",
    "#### Background\n",
    "\n",
    "The mean normal body temperature was held to be 37$^{\\circ}$C or 98.6$^{\\circ}$F for more than 120 years since it was first conceptualized and reported by Carl Wunderlich in a famous 1868 book. In 1992, this value was revised to 36.8$^{\\circ}$C or 98.2$^{\\circ}$F. \n",
    "\n",
    "#### Exercise\n",
    "In this exercise, you will analyze a dataset of human body temperatures and employ the concepts of hypothesis testing, confidence intervals, and statistical significance.\n",
    "\n",
    "Answer the following questions **in this notebook below and submit to your Github account**. \n",
    "\n",
    "1.  Is the distribution of body temperatures normal? \n",
    "    - Remember that this is a condition for the CLT, and hence the statistical tests we are using, to apply. \n",
    "2.  Is the true population mean really 98.6 degrees F?\n",
    "    - Bring out the one sample hypothesis test! In this situation, is it approriate to apply a z-test or a t-test? How will the result be different?\n",
    "3.  At what temperature should we consider someone's temperature to be \"abnormal\"?\n",
    "    - Start by computing the margin of error and confidence interval.\n",
    "4.  Is there a significant difference between males and females in normal temperature?\n",
    "    - Set up and solve for a two sample hypothesis testing.\n",
    "\n",
    "You can include written notes in notebook cells using Markdown: \n",
    "   - In the control panel at the top, choose Cell > Cell Type > Markdown\n",
    "   - Markdown syntax: http://nestacms.com/docs/creating-content/markdown-cheat-sheet\n",
    "\n",
    "#### Resources\n",
    "\n",
    "+ Information and data sources: http://www.amstat.org/publications/jse/datasets/normtemp.txt, http://www.amstat.org/publications/jse/jse_data_archive.htm\n",
    "+ Markdown syntax: http://nestacms.com/docs/creating-content/markdown-cheat-sheet\n",
    "\n",
    "****"
   ]
  },
  {
   "cell_type": "code",
   "execution_count": 1,
   "metadata": {
    "collapsed": true
   },
   "outputs": [],
   "source": [
    "import pandas as pd\n",
    "import numpy as np\n",
    "import scipy.stats as stats\n",
    "import matplotlib.pyplot as plt\n",
    "import matplotlib.mlab as mlab\n",
    "\n",
    "%matplotlib inline"
   ]
  },
  {
   "cell_type": "code",
   "execution_count": 2,
   "metadata": {
    "collapsed": false
   },
   "outputs": [],
   "source": [
    "df = pd.read_csv('data/human_body_temperature.csv')"
   ]
  },
  {
   "cell_type": "code",
   "execution_count": 3,
   "metadata": {
    "collapsed": false
   },
   "outputs": [
    {
     "data": {
      "text/html": [
       "<div>\n",
       "<table border=\"1\" class=\"dataframe\">\n",
       "  <thead>\n",
       "    <tr style=\"text-align: right;\">\n",
       "      <th></th>\n",
       "      <th>temperature</th>\n",
       "      <th>gender</th>\n",
       "      <th>heart_rate</th>\n",
       "    </tr>\n",
       "  </thead>\n",
       "  <tbody>\n",
       "    <tr>\n",
       "      <th>0</th>\n",
       "      <td>99.3</td>\n",
       "      <td>F</td>\n",
       "      <td>68.0</td>\n",
       "    </tr>\n",
       "    <tr>\n",
       "      <th>1</th>\n",
       "      <td>98.4</td>\n",
       "      <td>F</td>\n",
       "      <td>81.0</td>\n",
       "    </tr>\n",
       "    <tr>\n",
       "      <th>2</th>\n",
       "      <td>97.8</td>\n",
       "      <td>M</td>\n",
       "      <td>73.0</td>\n",
       "    </tr>\n",
       "    <tr>\n",
       "      <th>3</th>\n",
       "      <td>99.2</td>\n",
       "      <td>F</td>\n",
       "      <td>66.0</td>\n",
       "    </tr>\n",
       "    <tr>\n",
       "      <th>4</th>\n",
       "      <td>98.0</td>\n",
       "      <td>F</td>\n",
       "      <td>73.0</td>\n",
       "    </tr>\n",
       "  </tbody>\n",
       "</table>\n",
       "</div>"
      ],
      "text/plain": [
       "   temperature gender  heart_rate\n",
       "0         99.3      F        68.0\n",
       "1         98.4      F        81.0\n",
       "2         97.8      M        73.0\n",
       "3         99.2      F        66.0\n",
       "4         98.0      F        73.0"
      ]
     },
     "execution_count": 3,
     "metadata": {},
     "output_type": "execute_result"
    }
   ],
   "source": [
    "df.head()"
   ]
  },
  {
   "cell_type": "code",
   "execution_count": 4,
   "metadata": {
    "collapsed": false
   },
   "outputs": [
    {
     "name": "stdout",
     "output_type": "stream",
     "text": [
      "Sample size: 130 \n",
      "Mean: 98.249231 \n",
      "Standard deviation: 0.733183 \n",
      "Standard Error 0.064304\n"
     ]
    }
   ],
   "source": [
    "# Gather variables about the data for later analysis.\n",
    "n = len(df)\n",
    "mu = np.round(df.temperature.mean(),6)\n",
    "sigma = np.round(df.temperature.std(),6)\n",
    "sterr = np.round(sigma / np.sqrt(n),6)\n",
    "\n",
    "print('Sample size: {0} \\nMean: {1} \\nStandard deviation: {2} \\nStandard Error {3}'.format(n, mu, sigma, sterr))"
   ]
  },
  {
   "cell_type": "markdown",
   "metadata": {},
   "source": [
    "### 1) Is the distribution of body temperatures normal?"
   ]
  },
  {
   "cell_type": "code",
   "execution_count": 5,
   "metadata": {
    "collapsed": false
   },
   "outputs": [
    {
     "data": {
      "text/plain": [
       "[<matplotlib.lines.Line2D at 0x14cc7a08d30>]"
      ]
     },
     "execution_count": 5,
     "metadata": {},
     "output_type": "execute_result"
    },
    {
     "data": {
      "image/png": "[encoded data removed]",
      "text/plain": [
       "<matplotlib.figure.Figure at 0x14ccf273470>"
      ]
     },
     "metadata": {},
     "output_type": "display_data"
    }
   ],
   "source": [
    "# Normalized line for comparison.\n",
    "norm_line = np.linspace(df.temperature.min(), df.temperature.max(), n)\n",
    "\n",
    "plt.figure(figsize=(7,5))\n",
    "plt.hist(df.temperature, normed=True)\n",
    "plt.plot(norm_line, mlab.normpdf(norm_line, mu, sigma), color='r')"
   ]
  },
  {
   "cell_type": "markdown",
   "metadata": {},
   "source": [
    "Visually, the data appears fairly normal."
   ]
  },
  {
   "cell_type": "code",
   "execution_count": 6,
   "metadata": {
    "collapsed": false
   },
   "outputs": [
    {
     "name": "stdout",
     "output_type": "stream",
     "text": [
      "The p-value of the normaltest is 0.258748.\n"
     ]
    }
   ],
   "source": [
    "x, p = stats.normaltest(df.temperature)\n",
    "print('The p-value of the normaltest is {0}.'.format(np.round(p,6)))"
   ]
  },
  {
   "cell_type": "markdown",
   "metadata": {},
   "source": [
    "The p-value of the normalcy test is greater than 0.05, verifying that **the distribution is normal.**"
   ]
  },
  {
   "cell_type": "markdown",
   "metadata": {},
   "source": []
  },
  {
   "cell_type": "markdown",
   "metadata": {},
   "source": [
    "### 2) Is the true population mean really 98.6 degrees F?"
   ]
  },
  {
   "cell_type": "code",
   "execution_count": 7,
   "metadata": {
    "collapsed": false
   },
   "outputs": [
    {
     "name": "stdout",
     "output_type": "stream",
     "text": [
      "Z-score for H0: -5.454855\n"
     ]
    }
   ],
   "source": [
    "# H0: The population mean is 98.6 degrees F.\n",
    "# HA: The population mean is not 98.6 degrees F.\n",
    "h0_mu = 98.6\n",
    "\n",
    "# The sample size is above 30, so by rule of thumb we can apply the z-test.\n",
    "\n",
    "# Calculate z-score assuming H0.\n",
    "h0_z_score = (mu - h0_mu)/sterr\n",
    "\n",
    "print('Z-score for H0: {0}'.format(np.round(h0_z_score,6)))"
   ]
  },
  {
   "cell_type": "markdown",
   "metadata": {},
   "source": [
    "My calculations show that a sample mean of 98.2 is 5.454855 standard deviations from the $\\sf{H_{0}}$ mean of 98.6. Given that 3 standard deviations would indicate a 0.3% chance, this makes the null hypothesis a statistical impossibility; therefore, **We reject the null hypothesis that the true population mean is 98.6 degrees F.**"
   ]
  },
  {
   "cell_type": "markdown",
   "metadata": {},
   "source": []
  },
  {
   "cell_type": "markdown",
   "metadata": {},
   "source": [
    "### 3) At what temperature should we consider someone's temperature to be \"abnormal\"?"
   ]
  },
  {
   "cell_type": "code",
   "execution_count": 13,
   "metadata": {
    "collapsed": false
   },
   "outputs": [
    {
     "name": "stdout",
     "output_type": "stream",
     "text": [
      "Upper bound: 99.68627 \n",
      "Lower bound: 96.812192\n"
     ]
    }
   ],
   "source": [
    "# We'll use a 95% confidence interval. According to the z-table, this gives us a z-score of 1.96\n",
    "z_score = 1.96\n",
    "\n",
    "upper_bound = mu + sigma * z_score\n",
    "lower_bound = mu - sigma * z_score\n",
    "\n",
    "print('Upper bound: {0} \\nLower bound: {1}'.format(np.round(upper_bound,6), np.round(lower_bound,6)))"
   ]
  },
  {
   "cell_type": "markdown",
   "metadata": {},
   "source": [
    "Someone's temperature should be considered \"abnormal\" if it's **below 96.81** or **above 99.69.**"
   ]
  },
  {
   "cell_type": "markdown",
   "metadata": {},
   "source": []
  },
  {
   "cell_type": "markdown",
   "metadata": {},
   "source": [
    "### 4) Is there a significant difference between males and females in normal temperature?"
   ]
  },
  {
   "cell_type": "code",
   "execution_count": 40,
   "metadata": {
    "collapsed": false
   },
   "outputs": [
    {
     "name": "stdout",
     "output_type": "stream",
     "text": [
      "\n",
      ":Males: \n",
      "Sample size: 65 \n",
      "Mean: 98.104615 \n",
      "Standard deviation: 0.698756\n",
      "\n",
      ":Females: \n",
      "Sample size: 65 \n",
      "Mean: 98.393846 \n",
      "Standard deviation: 0.743488\n"
     ]
    }
   ],
   "source": [
    "# Stats for analysis.\n",
    "males = df[df.gender == 'M']\n",
    "females = df[df.gender == 'F']\n",
    "\n",
    "m_n = len(males)\n",
    "m_mu = np.round(males.temperature.mean(),6)\n",
    "m_sigma = np.round(males.temperature.std(),6)\n",
    "print('\\n:Males: \\nSample size: {0} \\nMean: {1} \\nStandard deviation: {2}'.format(m_n, m_mu, m_sigma))\n",
    "\n",
    "f_n = len(females)\n",
    "f_mu = np.round(females.temperature.mean(),6)\n",
    "f_sigma = np.round(females.temperature.std(),6)\n",
    "print('\\n:Females: \\nSample size: {0} \\nMean: {1} \\nStandard deviation: {2}'.format(f_n, f_mu, f_sigma))"
   ]
  },
  {
   "cell_type": "code",
   "execution_count": 39,
   "metadata": {
    "collapsed": false
   },
   "outputs": [
    {
     "name": "stdout",
     "output_type": "stream",
     "text": [
      "The z-score for the difference in means is 1.166039\n"
     ]
    }
   ],
   "source": [
    "# H0: There is no difference between the mean temperature of males and females.\n",
    "# H1: There is some difference between the mean temperature of males and females.\n",
    "\n",
    "# We're using a 95% confidence interval here, so the z_score from earlier (1.96) is re-used.\n",
    "\n",
    "diff_mu = abs(m_mu - f_mu)\n",
    "diff_sigma = np.sqrt((m_sigma**2/m_n)+(f_sigma**2/f_n))\n",
    "diff_err = z_score * diff_sigma\n",
    "\n",
    "diff_h0 = 0\n",
    "diff_h0_zscore = (diff_mu - diff_h0)/diff_err\n",
    "\n",
    "print('The z-score for the difference in means is {0}.'.format(np.round(diff_h0_zscore,6)))"
   ]
  },
  {
   "cell_type": "markdown",
   "metadata": {},
   "source": [
    "Given that 1.166 corresponds to 37.7% on the z-table, it's possible these are sampling differences; therefore, **there's no significant difference between samples.**"
   ]
  }
 ],
 "metadata": {
  "kernelspec": {
   "display_name": "Python 3",
   "language": "python",
   "name": "python3"
  },
  "language_info": {
   "codemirror_mode": {
    "name": "ipython",
    "version": 3
   },
   "file_extension": ".py",
   "mimetype": "text/x-python",
   "name": "python",
   "nbconvert_exporter": "python",
   "pygments_lexer": "ipython3",
   "version": "3.5.1"
  }
 },
 "nbformat": 4,
 "nbformat_minor": 0
}
